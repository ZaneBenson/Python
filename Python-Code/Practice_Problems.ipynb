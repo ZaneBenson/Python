{
 "cells": [
  {
   "cell_type": "code",
   "execution_count": 2,
   "metadata": {
    "collapsed": false,
    "deletable": true,
    "editable": true
   },
   "outputs": [
    {
     "name": "stdout",
     "output_type": "stream",
     "text": [
      "What is your name: Zane\n",
      "How old are you: 25\n",
      "Hi Zane you will be 100 years old in the year 2094\n"
     ]
    }
   ],
   "source": [
    "#This is a program where the user enters their name and age. The program then addresses the user and tells them the year they will turn 100.\n",
    "name = input(\"What is your name: \")\n",
    "age = int(input(\"How old are you: \"))\n",
    "year = str((2019-age)+100)\n",
    "print(\"Hi \" + name + \" you will be 100 years old in the year \" + year)\n"
   ]
  },
  {
   "cell_type": "code",
   "execution_count": 7,
   "metadata": {
    "collapsed": false,
    "deletable": true,
    "editable": true
   },
   "outputs": [
    {
     "name": "stdout",
     "output_type": "stream",
     "text": [
      "Type a number: 56\n",
      "Type a second number to be divided into the first number: 73\n",
      "This number is a mutiple of four\n",
      "56  does notdivide evenly by  73\n"
     ]
    }
   ],
   "source": [
    "num = int(input(\"Type a number: \"))\n",
    "check = int(input(\"Type a second number to be divided into the first number: \"))\n",
    "if num % 4 == 0:\n",
    "    print ('This number is a mutiple of four')\n",
    "elif num % 2 == 0:\n",
    "    print('This number is even')\n",
    "elif num % 2 != 0:\n",
    "    print('This number is odd')\n",
    "    \n",
    "    \n",
    "if num % check == 0:\n",
    "    print(num,' divides evenly by ',check)\n",
    "else:\n",
    "    print(num,' does not divide evenly by ',check)"
   ]
  },
  {
   "cell_type": "code",
   "execution_count": 2,
   "metadata": {
    "collapsed": true,
    "deletable": true,
    "editable": true
   },
   "outputs": [],
   "source": [
    "my_list = [1, 1, 2, 3, 5, 8, 13, 21, 34, 55, 89]"
   ]
  },
  {
   "cell_type": "code",
   "execution_count": 3,
   "metadata": {
    "collapsed": false,
    "deletable": true,
    "editable": true
   },
   "outputs": [
    {
     "name": "stdout",
     "output_type": "stream",
     "text": [
      "[1, 1, 2, 3]\n"
     ]
    }
   ],
   "source": [
    "new_list = []\n",
    "for num in my_list:\n",
    "    if num < 5:\n",
    "        new_list.append(num)\n",
    "\n",
    "print(new_list)"
   ]
  },
  {
   "cell_type": "code",
   "execution_count": 21,
   "metadata": {
    "collapsed": false,
    "deletable": true,
    "editable": true
   },
   "outputs": [
    {
     "name": "stdout",
     "output_type": "stream",
     "text": [
      "Hello, please give me a number: 36\n",
      "[1, 2, 3, 4, 6, 9, 12, 18, 36]\n"
     ]
    }
   ],
   "source": [
    "my_list = []\n",
    "num = int(input('Hello, please give me a number: '))\n",
    "ran = list(range(1,num+1))\n",
    "for i in ran:\n",
    "    if num % i == 0:\n",
    "        my_list.append(i)\n",
    "        \n",
    "        \n",
    "print(my_list)\n"
   ]
  },
  {
   "cell_type": "code",
   "execution_count": 23,
   "metadata": {
    "collapsed": false,
    "deletable": true,
    "editable": true
   },
   "outputs": [
    {
     "name": "stdout",
     "output_type": "stream",
     "text": [
      "How many random numbers do you want? 50\n",
      "[6, 2, 7, 10, 2, 6, 7, 5, 5, 10, 9, 2, 5, 3, 4, 4, 5, 9, 3, 10, 4, 6, 2, 10, 10, 4, 6, 3, 4, 7, 4, 6, 4, 1, 4, 7, 4, 3, 5, 4, 5, 8, 10, 6, 5, 4, 6, 3, 3, 1]\n",
      "[6, 1, 5, 7, 3, 7, 10, 8, 5, 3, 10, 7, 7, 5, 8, 1, 9, 2, 7, 5, 5, 1, 8, 9, 5, 9, 7, 5, 7, 10, 7, 6, 1, 7, 2, 1, 4, 4, 9, 8, 7, 8, 9, 5, 3, 3, 6, 4, 2, 1]\n"
     ]
    }
   ],
   "source": [
    "#program returns user inputed amount of random numbers between 1 and 100\n",
    "import random\n",
    "\n",
    "list_a = []\n",
    "list_b = []\n",
    "num = int(input('How many random numbers do you want? '))\n",
    "for i in range(0,num):\n",
    "        x = random.randint(1,10)\n",
    "        y = random.randint(1,10)\n",
    "        list_a.append(x)\n",
    "        list_b.append(y)\n",
    "\n",
    "print(list_a)\n",
    "print(list_b)\n"
   ]
  },
  {
   "cell_type": "code",
   "execution_count": 41,
   "metadata": {
    "collapsed": false,
    "deletable": true,
    "editable": true
   },
   "outputs": [
    {
     "name": "stdout",
     "output_type": "stream",
     "text": [
      "[1, 2, 3, 4, 5, 6, 7, 8, 9, 10]\n"
     ]
    }
   ],
   "source": [
    "combo_list = []\n",
    "for nums in list_a:\n",
    "    if nums == nums in list_b:\n",
    "        combo_list.append(nums)\n",
    "\n",
    "print(list(set(combo_list)))"
   ]
  },
  {
   "cell_type": "code",
   "execution_count": 56,
   "metadata": {
    "collapsed": false,
    "deletable": true,
    "editable": true
   },
   "outputs": [
    {
     "name": "stdout",
     "output_type": "stream",
     "text": [
      "Please give me a word to check if its palindrome: Kayak\n",
      "Kayak is a palindrome!\n"
     ]
    }
   ],
   "source": [
    "word = input('Please give me a word to check if its palindrome: ')\n",
    "backwards = word[::-1]\n",
    "backwards = backwards.lower()\n",
    "if backwards == word.lower():\n",
    "    print( word + ' is a palindrome!')\n",
    "else:\n",
    "    print( word + ' is not a palindrome.')"
   ]
  },
  {
   "cell_type": "code",
   "execution_count": 2,
   "metadata": {
    "collapsed": true,
    "deletable": true,
    "editable": true
   },
   "outputs": [],
   "source": [
    "a = [1, 4, 9, 16, 25, 36, 49, 64, 81, 100]\n",
    "new_list = []\n",
    "def even_list(lst):\n",
    "    for num in a:\n",
    "        if num % 2 == 0:\n",
    "            new_list.append(num)\n",
    "    print(new_list)"
   ]
  },
  {
   "cell_type": "code",
   "execution_count": 3,
   "metadata": {
    "collapsed": false,
    "deletable": true,
    "editable": true
   },
   "outputs": [
    {
     "name": "stdout",
     "output_type": "stream",
     "text": [
      "[4, 16, 36, 64, 100]\n"
     ]
    }
   ],
   "source": [
    "even_list(a)"
   ]
  },
  {
   "cell_type": "code",
   "execution_count": null,
   "metadata": {
    "collapsed": true,
    "deletable": true,
    "editable": true
   },
   "outputs": [],
   "source": []
  }
 ],
 "metadata": {
  "kernelspec": {
   "display_name": "Python 3",
   "language": "python",
   "name": "python3"
  },
  "language_info": {
   "codemirror_mode": {
    "name": "ipython",
    "version": 3
   },
   "file_extension": ".py",
   "mimetype": "text/x-python",
   "name": "python",
   "nbconvert_exporter": "python",
   "pygments_lexer": "ipython3",
   "version": "3.5.2"
  }
 },
 "nbformat": 4,
 "nbformat_minor": 2
}
