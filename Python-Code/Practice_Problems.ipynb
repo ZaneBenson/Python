{
 "cells": [
  {
   "cell_type": "code",
   "execution_count": 2,
   "metadata": {
    "collapsed": false,
    "deletable": true,
    "editable": true
   },
   "outputs": [
    {
     "name": "stdout",
     "output_type": "stream",
     "text": [
      "What is your name: Zane\n",
      "How old are you: 25\n",
      "Hi Zane you will be 100 years old in the year 2094\n"
     ]
    }
   ],
   "source": [
    "#This is a program where the user enters their name and age. The program then addresses the user and tells them the year they will turn 100.\n",
    "name = input(\"What is your name: \")\n",
    "age = int(input(\"How old are you: \"))\n",
    "year = str((2019-age)+100)\n",
    "print(\"Hi \" + name + \" you will be 100 years old in the year \" + year)\n"
   ]
  },
  {
   "cell_type": "code",
   "execution_count": 7,
   "metadata": {
    "collapsed": false,
    "deletable": true,
    "editable": true
   },
   "outputs": [
    {
     "name": "stdout",
     "output_type": "stream",
     "text": [
      "Type a number: 56\n",
      "Type a second number to be divided into the first number: 73\n",
      "This number is a mutiple of four\n",
      "56  does notdivide evenly by  73\n"
     ]
    }
   ],
   "source": [
    "num = int(input(\"Type a number: \"))\n",
    "check = int(input(\"Type a second number to be divided into the first number: \"))\n",
    "if num % 4 == 0:\n",
    "    print ('This number is a mutiple of four')\n",
    "elif num % 2 == 0:\n",
    "    print('This number is even')\n",
    "elif num % 2 != 0:\n",
    "    print('This number is odd')\n",
    "    \n",
    "    \n",
    "if num % check == 0:\n",
    "    print(num,' divides evenly by ',check)\n",
    "else:\n",
    "    print(num,' does not divide evenly by ',check)"
   ]
  },
  {
   "cell_type": "code",
   "execution_count": 8,
   "metadata": {
    "collapsed": true
   },
   "outputs": [],
   "source": [
    "my_list = [1, 1, 2, 3, 5, 8, 13, 21, 34, 55, 89]"
   ]
  },
  {
   "cell_type": "code",
   "execution_count": 12,
   "metadata": {
    "collapsed": false
   },
   "outputs": [
    {
     "name": "stdout",
     "output_type": "stream",
     "text": [
      "[1]\n",
      "[1, 1]\n",
      "[1, 1, 2]\n",
      "[1, 1, 2, 3]\n"
     ]
    }
   ],
   "source": [
    "new_list = []\n",
    "for num in my_list:\n",
    "    if num < 5:\n",
    "        new_list.append(num)\n",
    "        print(new_list)"
   ]
  },
  {
   "cell_type": "code",
   "execution_count": 21,
   "metadata": {
    "collapsed": false
   },
   "outputs": [
    {
     "name": "stdout",
     "output_type": "stream",
     "text": [
      "Hello, please give me a number: 36\n",
      "[1, 2, 3, 4, 6, 9, 12, 18, 36]\n"
     ]
    }
   ],
   "source": [
    "my_list = []\n",
    "num = int(input('Hello, please give me a number: '))\n",
    "ran = list(range(1,num+1))\n",
    "for i in ran:\n",
    "    if num % i == 0:\n",
    "        my_list.append(i)\n",
    "        \n",
    "        \n",
    "print(my_list)\n"
   ]
  },
  {
   "cell_type": "code",
   "execution_count": 42,
   "metadata": {
    "collapsed": false
   },
   "outputs": [
    {
     "ename": "IndentationError",
     "evalue": "unexpected indent (<ipython-input-42-d15cd5e50e9a>, line 3)",
     "output_type": "error",
     "traceback": [
      "\u001b[1;36m  File \u001b[1;32m\"<ipython-input-42-d15cd5e50e9a>\"\u001b[1;36m, line \u001b[1;32m3\u001b[0m\n\u001b[1;33m    mylist = []\u001b[0m\n\u001b[1;37m    ^\u001b[0m\n\u001b[1;31mIndentationError\u001b[0m\u001b[1;31m:\u001b[0m unexpected indent\n"
     ]
    }
   ],
   "source": [
    "import random\n",
    "\n",
    "mylist = []\n",
    "num = int(input('How many random numbers do you want? '))\n",
    "    for i in range(0,num):\n",
    "        x = random.randint(1,10)\n",
    "        mylist.append(x)\n",
    "\n",
    "print(mylist)\n"
   ]
  },
  {
   "cell_type": "code",
   "execution_count": null,
   "metadata": {
    "collapsed": true
   },
   "outputs": [],
   "source": []
  }
 ],
 "metadata": {
  "kernelspec": {
   "display_name": "Python 3",
   "language": "python",
   "name": "python3"
  },
  "language_info": {
   "codemirror_mode": {
    "name": "ipython",
    "version": 3
   },
   "file_extension": ".py",
   "mimetype": "text/x-python",
   "name": "python",
   "nbconvert_exporter": "python",
   "pygments_lexer": "ipython3",
   "version": "3.5.2"
  }
 },
 "nbformat": 4,
 "nbformat_minor": 2
}
